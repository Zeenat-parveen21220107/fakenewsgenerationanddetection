{
  "nbformat": 4,
  "nbformat_minor": 0,
  "metadata": {
    "colab": {
      "provenance": []
    },
    "kernelspec": {
      "name": "python3",
      "display_name": "Python 3"
    },
    "language_info": {
      "name": "python"
    }
  },
  "cells": [
    {
      "cell_type": "code",
      "execution_count": null,
      "metadata": {
        "colab": {
          "base_uri": "https://localhost:8080/",
          "height": 680
        },
        "id": "uHiETuYWoqFP",
        "outputId": "e1cec17f-c5a8-4001-f125-75b69f256657"
      },
      "outputs": [
        {
          "output_type": "stream",
          "name": "stderr",
          "text": [
            "Some weights of BertForSequenceClassification were not initialized from the model checkpoint at bert-base-uncased and are newly initialized: ['classifier.bias', 'classifier.weight']\n",
            "You should probably TRAIN this model on a down-stream task to be able to use it for predictions and inference.\n"
          ]
        },
        {
          "output_type": "stream",
          "name": "stdout",
          "text": [
            "It looks like you are running Gradio on a hosted a Jupyter notebook. For the Gradio app to work, sharing must be enabled. Automatically setting `share=True` (you can turn this off by setting `share=False` in `launch()` explicitly).\n",
            "\n",
            "Colab notebook detected. To show errors in colab notebook, set debug=True in launch()\n",
            "* Running on public URL: https://b6f75f9955ca25642e.gradio.live\n",
            "\n",
            "This share link expires in 1 week. For free permanent hosting and GPU upgrades, run `gradio deploy` from the terminal in the working directory to deploy to Hugging Face Spaces (https://huggingface.co/spaces)\n"
          ]
        },
        {
          "output_type": "display_data",
          "data": {
            "text/plain": [
              "<IPython.core.display.HTML object>"
            ],
            "text/html": [
              "<div><iframe src=\"https://b6f75f9955ca25642e.gradio.live\" width=\"100%\" height=\"500\" allow=\"autoplay; camera; microphone; clipboard-read; clipboard-write;\" frameborder=\"0\" allowfullscreen></iframe></div>"
            ]
          },
          "metadata": {}
        },
        {
          "output_type": "execute_result",
          "data": {
            "text/plain": []
          },
          "metadata": {},
          "execution_count": 9
        }
      ],
      "source": [
        "!pip install -q transformers torch gradio pandas\n",
        "\n",
        "import torch\n",
        "import pandas as pd\n",
        "import gradio as gr\n",
        "from transformers import GPT2LMHeadModel, GPT2Tokenizer\n",
        "from transformers import AutoTokenizer, AutoModelForSequenceClassification\n",
        "\n",
        "# Device Setup\n",
        "Device = torch.device(\"cuda\" if torch.cuda.is_available() else \"cpu\")\n",
        "\n",
        "# Load GPT-2 (for fake news generation)\n",
        "gpt2_tokenizer = GPT2Tokenizer.from_pretrained(\"gpt2\")\n",
        "gpt2_model = GPT2LMHeadModel.from_pretrained(\"gpt2\").to(Device)\n",
        "\n",
        "# Load BERT (for fake news detection)\n",
        "bert_tokenizer = AutoTokenizer.from_pretrained(\"bert-base-uncased\")\n",
        "bert_model = AutoModelForSequenceClassification.from_pretrained(\n",
        "    \"bert-base-uncased\", num_labels=2\n",
        ").to(Device)\n",
        "\n",
        "# Feedback log (stored in memory)\n",
        "feedback_log = []\n",
        "\n",
        "# === Fake News Generator ===\n",
        "def generate_fake_news(prompt):\n",
        "    inputs = gpt2_tokenizer.encode(prompt, return_tensors=\"pt\").to(Device)\n",
        "    outputs = gpt2_model.generate(\n",
        "        inputs,\n",
        "        max_length=200,\n",
        "        num_return_sequences=1,\n",
        "        no_repeat_ngram_size=2,\n",
        "        do_sample=True,\n",
        "        temperature=0.7,\n",
        "        top_k=50,\n",
        "        top_p=0.95,\n",
        "        early_stopping=True\n",
        "    )\n",
        "    return gpt2_tokenizer.decode(outputs[0], skip_special_tokens=True)\n",
        "\n",
        "# === Fake News Detector ===\n",
        "def detect_news(text):\n",
        "    if not isinstance(text, str) or not text.strip():\n",
        "        return \"Please enter some text.\", 0.0\n",
        "\n",
        "    inputs = bert_tokenizer(text, return_tensors=\"pt\", truncation=True, padding=True).to(Device)\n",
        "    with torch.no_grad():\n",
        "        outputs = bert_model(**inputs)\n",
        "    logits = outputs.logits\n",
        "\n",
        "    if logits.shape[0] == 1:\n",
        "        logits = logits.squeeze(0)\n",
        "\n",
        "    predicted_class = torch.argmax(logits, dim=-1).item()\n",
        "    confidence = torch.softmax(logits, dim=-1)[predicted_class].item()\n",
        "\n",
        "    # If confidence is low, treat as Fake News\n",
        "    if confidence < 0.75:\n",
        "        label = \"Fake News ⚠️ (Low Confidence – Treated as Fake)\"\n",
        "    else:\n",
        "        label = \"Fake News\" if predicted_class == 0 else \"Real News\"\n",
        "\n",
        "    return f\"{label} (Confidence: {confidence:.2f})\", confidence\n",
        "\n",
        "# === Word Counter ===\n",
        "def count_words(text):\n",
        "    return f\"📄 Word Count: {len(text.split())}\"\n",
        "\n",
        "# === Feedback Recorder ===\n",
        "def record_feedback(article_text, result, feedback):\n",
        "    feedback_log.append({\n",
        "        \"Text\": article_text,\n",
        "        \"Result\": result,\n",
        "        \"Feedback\": feedback\n",
        "    })\n",
        "    return f\"Feedback received: {feedback} 👍\" if feedback == \"Agree\" else f\"Feedback received: {feedback} 👎\"\n",
        "\n",
        "# === Dark Theme ===\n",
        "dark_theme = gr.themes.Base(\n",
        "    primary_hue=\"blue\",\n",
        "    neutral_hue=\"slate\"\n",
        ").set(\n",
        "    body_background_fill=\"#111827\",\n",
        "    body_text_color=\"#e5e7eb\",\n",
        "    input_background_fill=\"#1f2937\",\n",
        "    input_border_color=\"#374151\",\n",
        "    block_background_fill=\"#1e293b\"\n",
        ")\n",
        "\n",
        "# === Gradio Interface ===\n",
        "with gr.Blocks(theme=dark_theme) as demo:\n",
        "    gr.Markdown(\"## 🧠 Fake News Generator & Detector (Confidence-Aware)\")\n",
        "\n",
        "    with gr.Tab(\"🧪 Generate Fake News\"):\n",
        "        input_text = gr.Textbox(label=\"Enter a Headline or Prompt\", lines=2)\n",
        "        generate_btn = gr.Button(\"Generate\")\n",
        "        clear_btn = gr.Button(\"Clear\")\n",
        "        output_text = gr.Textbox(label=\"Generated News\", lines=15)\n",
        "\n",
        "        generate_btn.click(generate_fake_news, inputs=input_text, outputs=output_text)\n",
        "        clear_btn.click(lambda: \"\", outputs=input_text)\n",
        "\n",
        "    with gr.Tab(\"🛡 Detect Fake or Real\"):\n",
        "        detect_input = gr.Textbox(label=\"Paste News Article or Statement\", lines=6)\n",
        "        detect_btn = gr.Button(\"Detect\")\n",
        "        word_count = gr.Textbox(label=\"📄 Word Count\", interactive=False)\n",
        "        detect_output = gr.Textbox(label=\"Detection Result\")\n",
        "        confidence_bar = gr.Slider(minimum=0, maximum=1, label=\"Confidence\", interactive=False)\n",
        "\n",
        "        feedback_msg = gr.Textbox(label=\"📢 Feedback Message\", interactive=False)\n",
        "        agree_btn = gr.Button(\"👍 Agree\")\n",
        "        disagree_btn = gr.Button(\"👎 Disagree\")\n",
        "\n",
        "        detect_input.change(count_words, inputs=detect_input, outputs=word_count)\n",
        "        detect_btn.click(detect_news, inputs=detect_input, outputs=[detect_output, confidence_bar])\n",
        "        agree_btn.click(record_feedback, inputs=[detect_input, detect_output, gr.Textbox(value=\"Agree\", visible=False)], outputs=feedback_msg)\n",
        "        disagree_btn.click(record_feedback, inputs=[detect_input, detect_output, gr.Textbox(value=\"Disagree\", visible=False)], outputs=feedback_msg)\n",
        "\n",
        "# Launch the app\n",
        "demo.launch()\n"
      ]
    }
  ]
}